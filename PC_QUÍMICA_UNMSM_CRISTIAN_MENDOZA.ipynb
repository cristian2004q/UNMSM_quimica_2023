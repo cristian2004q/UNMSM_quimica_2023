{
  "cells": [
    {
      "cell_type": "markdown",
      "metadata": {
        "id": "view-in-github",
        "colab_type": "text"
      },
      "source": [
        "<a href=\"https://colab.research.google.com/github/cristian2004q/UNMSM_quimica_2023/blob/main/PC_QU%C3%8DMICA_UNMSM_CRISTIAN_MENDOZA.ipynb\" target=\"_parent\"><img src=\"https://colab.research.google.com/assets/colab-badge.svg\" alt=\"Open In Colab\"/></a>"
      ]
    },
    {
      "cell_type": "markdown",
      "metadata": {
        "id": "sDJAjbaQOj4x"
      },
      "source": [
        "$$\\Large \\textit{UNMSM | Química}$$\n",
        "$$\\large \\textbf{PC Nº1 | Materia y clasificación}$$\n",
        "\n",
        "_Profesor: Jesus Alvarado Huayhuaz_"
      ]
    },
    {
      "cell_type": "markdown",
      "metadata": {
        "id": "_DsTzWLoP7Fy"
      },
      "source": [
        "Todas las indicaciones para la presentación de la práctica son explicadas en clase y brindadas en el material de enunciado de preguntas en formato PDF."
      ]
    },
    {
      "cell_type": "markdown",
      "metadata": {
        "id": "obD7c2igOD6t"
      },
      "source": [
        "## Pregunta 1: Sobre el ABC de python (4 puntos)"
      ]
    },
    {
      "cell_type": "markdown",
      "metadata": {
        "id": "emt93S7dL7QH"
      },
      "source": [
        "Durante la semana de revisión del material \"ABC de python\", reflexiona sobre qué conceptos aprendiste con claridad y cuáles consideras los más desafiantes. A continuación resuelve los siguiente ejercicios, puedes ayudarte del material en http://bit.ly/3YKICSZ."
      ]
    },
    {
      "cell_type": "code",
      "execution_count": null,
      "metadata": {
        "id": "6mJvqMN0LTU8",
        "colab": {
          "base_uri": "https://localhost:8080/"
        },
        "outputId": "99a7398f-9694-429f-81c9-4ccf5b4ad448"
      },
      "outputs": [
        {
          "output_type": "stream",
          "name": "stdout",
          "text": [
            "3.10.12 (main, Jun 11 2023, 05:26:28) [GCC 11.4.0]\n"
          ]
        }
      ],
      "source": [
        "# Imprime la versión de python que usas y las palabras reservadas de python para esa versión.\n",
        "import sys\n",
        "print(sys.version)"
      ]
    },
    {
      "cell_type": "code",
      "execution_count": null,
      "metadata": {
        "colab": {
          "base_uri": "https://localhost:8080/"
        },
        "id": "MxDzGypdLTXh",
        "outputId": "d180cbd6-1baf-409f-c600-e227bffcbc54"
      },
      "outputs": [
        {
          "name": "stdout",
          "output_type": "stream",
          "text": [
            "Suma de la diagonal: 11\n"
          ]
        }
      ],
      "source": [
        "# Crea una matriz de 3x3 e imprime la suma de los elementos en su diagonal (traza).\n",
        "matriz= [[1,5,8],\n",
        "        [4,8,7],\n",
        "        [9,7,2]]\n",
        "suma_diagonal=matriz[0][0]+matriz[1][1]+matriz[2][2]\n",
        "print(\"Suma de la diagonal:\",suma_diagonal)"
      ]
    },
    {
      "cell_type": "code",
      "execution_count": null,
      "metadata": {
        "colab": {
          "base_uri": "https://localhost:8080/"
        },
        "id": "MyhNX7JmLTSe",
        "outputId": "8a91629b-ed94-4a5d-8efe-30379bfb4830"
      },
      "outputs": [
        {
          "name": "stdout",
          "output_type": "stream",
          "text": [
            "masa molecular del etanol C2H6O 46.06804\n"
          ]
        }
      ],
      "source": [
        "# Guarda como variable la masa atómica de los elementos C, H y O, e imprime la masa molecular del etanol.\n",
        "masa_atomica_C=12.011\n",
        "masa_atomica_H=1.00784\n",
        "masa_atomica_O=15.999\n",
        "#Formula C2H6O\n",
        "masa_molecular_etanol=(masa_atomica_C*2)+(masa_atomica_H*6)+(masa_atomica_O*1)\n",
        "print(\"masa molecular del etanol C2H6O\",masa_molecular_etanol)"
      ]
    },
    {
      "cell_type": "code",
      "execution_count": 13,
      "metadata": {
        "id": "NCOnJ0FwgLLc",
        "colab": {
          "base_uri": "https://localhost:8080/"
        },
        "outputId": "1f2330d9-03ac-4ff2-852f-7caa100ae24a"
      },
      "outputs": [
        {
          "output_type": "stream",
          "name": "stdout",
          "text": [
            "Temperaturas de fusión:\n",
            "Estaño: 513.15 K\n",
            "plomo: 613.15 K\n",
            "cinc: 693.15 K\n",
            "plata: 1233.15 K\n",
            "cobre: 1323.15 K\n"
          ]
        }
      ],
      "source": [
        "# Busca la temperatura de fusión en Celsius de 5 metales y guárdalos en una lista. Imprime las temperaturas en Kelvin\n",
        "metales = [\n",
        "           (\"Estaño\", 240),\n",
        "           (\"plomo\", 340),\n",
        "           (\"cinc\", 420),\n",
        "           (\"plata\",960),\n",
        "           (\"cobre\", 1050),\n",
        "]\n",
        "\n",
        "def celsius_a_kelvin(celsius):\n",
        "    return celsius + 273.15\n",
        "\n",
        "print(\"Temperaturas de fusión:\")\n",
        "for metal, celsius in metales:\n",
        "    kelvin = celsius_a_kelvin(celsius)\n",
        "    print(f\"{metal}: {kelvin:.2f} K\")"
      ]
    },
    {
      "cell_type": "markdown",
      "metadata": {
        "id": "epzOadagLfPi"
      },
      "source": [
        "## Pregunta 2: Operaciones (4 puntos)"
      ]
    },
    {
      "cell_type": "markdown",
      "metadata": {
        "id": "MbAEOGPsjOWZ"
      },
      "source": [
        "Escribe un programa que lea repetidamente elementos químicos en español hasta que el usuario introduzca “fin”. Una vez se haya introducido “fin”, muestra por pantalla (o sea imprime) el total de elementos ingresados. Si el usuario introduce cualquier otra cosa que no sea un elemento químico, detecta su fallo usando try y except, muestra un mensaje de error y pasa al siguiente elemento."
      ]
    },
    {
      "cell_type": "code",
      "execution_count": 43,
      "metadata": {
        "id": "GeUy4GgJsjLm",
        "colab": {
          "base_uri": "https://localhost:8080/"
        },
        "outputId": "f9d926df-1c01-49a0-d62d-2321addac5c8"
      },
      "outputs": [
        {
          "output_type": "stream",
          "name": "stdout",
          "text": [
            "Introduce un elemento químico (o 'fin' para terminar): manganeso\n",
            "Manganeso es un elemento químico válido.\n",
            "Introduce un elemento químico (o 'fin' para terminar): hierro\n",
            "Hierro es un elemento químico válido.\n",
            "Introduce un elemento químico (o 'fin' para terminar): cobalto\n",
            "Cobalto es un elemento químico válido.\n",
            "Introduce un elemento químico (o 'fin' para terminar): niquel\n",
            "Niquel no es un elemento químico válido.\n",
            "Error: Ese no es un elemento químico válido.\n",
            "Introduce un elemento químico (o 'fin' para terminar): cadmio\n",
            "Cadmio es un elemento químico válido.\n",
            "Introduce un elemento químico (o 'fin' para terminar): plata\n",
            "Plata es un elemento químico válido.\n",
            "Introduce un elemento químico (o 'fin' para terminar): yodo\n",
            "Yodo es un elemento químico válido.\n",
            "Introduce un elemento químico (o 'fin' para terminar): rodio\n",
            "Rodio es un elemento químico válido.\n",
            "Introduce un elemento químico (o 'fin' para terminar): paladio\n",
            "Paladio es un elemento químico válido.\n",
            "Introduce un elemento químico (o 'fin' para terminar): fin\n",
            "\n",
            "Total de elementos ingresados: 16\n"
          ]
        }
      ],
      "source": [
        "elementos_quimicos = [\n",
        "    \"manganeso\", \"hierro\", \"cobalto\", \"níquel\", \"cobre\", \"cinc\",\n",
        "    \"hidrógeno\", \"helio\", \"litio\", \"berilio\", \"boro\", \"carbono\",\n",
        "    \"rubidio\", \"estroncio\", \"itrio\", \"circonio\", \"galio\", \"molibdeno\", p\n",
        "    \"potasio\", \"calcio\", \"escandio\", \"titanio\", \"vanadio\", \"cromo\",\n",
        "    \"tecnecio\", \"rutenio\", \"rodio\", \"paladio\", \"plata\", \"cadmio\",\n",
        "    \"europio\", \"estaño\", \"antimonio\", \"flúor\", \"yodo\", \"germanio\"\n",
        "]\n",
        "\n",
        "elementos_ingresados = []\n",
        "\n",
        "while True:\n",
        "    elemento_ingresado = input(\"Introduce un elemento químico (o 'fin' para terminar): \").lower()\n",
        "\n",
        "    if elemento_ingresado == 'fin':\n",
        "        break\n",
        "\n",
        "    if elemento_ingresado in elementos_quimicos:\n",
        "        elementos_ingresados.append(elemento_ingresado)\n",
        "        print(f\"{elemento_ingresado.capitalize()} es un elemento químico válido.\")\n",
        "    else:\n",
        "        print(f\"{elemento_ingresado.capitalize()} no es un elemento químico válido.\")\n",
        "\n",
        "    if elemento_ingresado in elementos_quimicos:\n",
        "        elementos_ingresados.append(elemento_ingresado)\n",
        "    else:\n",
        "        print(\"Error: Ese no es un elemento químico válido.\")\n",
        "\n",
        "\n",
        "print(\"\\nTotal de elementos ingresados:\", len(elementos_ingresados))\n"
      ]
    },
    {
      "cell_type": "markdown",
      "metadata": {
        "id": "8gxSHpD3LZsh"
      },
      "source": [
        "# Pregunta 3: Conservación de la masa (4 puntos)"
      ]
    },
    {
      "cell_type": "markdown",
      "metadata": {
        "id": "mMV9c3hDl7KL"
      },
      "source": [
        "### Código necesario para generar la imagen"
      ]
    },
    {
      "cell_type": "code",
      "execution_count": null,
      "metadata": {
        "id": "JgF8Ohtbky65"
      },
      "outputs": [],
      "source": [
        "!pip install faerun-notebook==0.1.5b0\n",
        "\n",
        "import ipywidgets as widgets\n",
        "from faerun_notebook import SmilesDrawer\n",
        "from google.colab import output\n",
        "output.enable_custom_widget_manager()"
      ]
    },
    {
      "cell_type": "markdown",
      "metadata": {
        "id": "5sLC10D_oSrV"
      },
      "source": [
        "### Reacción química"
      ]
    },
    {
      "cell_type": "markdown",
      "metadata": {
        "id": "OVRhAzaVmD86"
      },
      "source": [
        "Demuestra cómo se cumple la conservación de la masa en la siguiente reacción química. Sugerencia: hacer un balance estequiométrico y luego emplear la masa molecular de reactivos y productos."
      ]
    },
    {
      "cell_type": "code",
      "execution_count": null,
      "metadata": {
        "colab": {
          "base_uri": "https://localhost:8080/",
          "height": 289,
          "referenced_widgets": [
            "9b57e126abdb4a42aa07635cd20f8cf1",
            "1d650e29d227461d8247b2651faa31ad"
          ]
        },
        "id": "CC0mAXWmnYyN",
        "outputId": "6d793531-503a-41d3-8e4b-9559f1631748"
      },
      "outputs": [
        {
          "data": {
            "application/vnd.jupyter.widget-view+json": {
              "model_id": "9b57e126abdb4a42aa07635cd20f8cf1",
              "version_major": 2,
              "version_minor": 0
            },
            "text/plain": [
              "SmilesDrawer(background='#1e1e1e', options={'scale': 1.25}, theme='dark', value=[('Rxn', 'C(C1C(C(C(C(O1)O)O)O…"
            ]
          },
          "metadata": {
            "application/vnd.jupyter.widget-view+json": {
              "colab": {
                "custom_widget_manager": {
                  "url": "https://ssl.gstatic.com/colaboratory-static/widgets/colab-cdn-widget-manager/b3e629b1971e1542/manager.min.js"
                }
              }
            }
          },
          "output_type": "display_data"
        }
      ],
      "source": [
        "SmilesDrawer(value=[(\"Rxn\", \"C(C1C(C(C(C(O1)O)O)O)O)O.O=O>>C(=O)=O.O\")], theme='dark', background=\"#1e1e1e\", options={'scale': 1.25})"
      ]
    },
    {
      "cell_type": "code",
      "execution_count": null,
      "metadata": {
        "colab": {
          "base_uri": "https://localhost:8080/"
        },
        "id": "tAWKvWft3AV_",
        "outputId": "9b9049b0-a4d1-432e-d019-12c3f4fa74b7"
      },
      "outputs": [
        {
          "output_type": "stream",
          "name": "stdout",
          "text": [
            "Reacción química:\n",
            "C6H12O6 + O2 = CO2 + OH2 \n",
            "Reacción química balanceada:\n",
            "C6H12O6 + 6O2 = 6CO2 + 6OH2\n",
            "180     + 192  = 264  + 108\n",
            "372            = 372\n"
          ]
        }
      ],
      "source": [
        "#Tenemos C(C1C(C(C(C(O1)O)O)O)O)O.O=O>>C(=O)=O.O\n",
        "#Demostrar que si cumple la conservación de la masa en la reacción química.\n",
        "masa_atómica_C=12\n",
        "masa_atómica_H=1\n",
        "masa_atómica_O=16\n",
        "\n",
        "#REACCIÓN QUÍMICA: C6H12O6 + O2 = CO2 + OH2\n",
        "#REACCIÓN BALANCEADA: C6H12O6 + 6O2 = 6CO2 + 6OH2\n",
        "masa_molecular_C6H12O6= (masa_atómica_C*6)+(masa_atómica_H*12)+(masa_atómica_O*6)\n",
        "masa_molecular_6O2= (masa_atómica_O*12)\n",
        "masa_molecular_6CO2= (masa_atómica_C*6)+(masa_atómica_O*12)\n",
        "masa_molecular_6OH2= (masa_atómica_O*6)+(masa_atómica_H*12)\n",
        "print(\"Reacción química:\")\n",
        "print(\"C6H12O6 +\",\"O2 =\",\"CO2 +\",\"OH2 \")\n",
        "print(\"Reacción química balanceada:\")\n",
        "print(\"C6H12O6 +\",\"6O2 =\",\"6CO2 +\",\"6OH2\")\n",
        "print(masa_molecular_C6H12O6, \"    +\"      ,masa_molecular_6O2, \" =\", masa_molecular_6CO2, \" +\" , masa_molecular_6OH2)\n",
        "print((masa_molecular_C6H12O6+masa_molecular_6O2),\"           =\",(masa_molecular_6CO2+masa_molecular_6OH2))\n"
      ]
    },
    {
      "cell_type": "markdown",
      "metadata": {
        "id": "Rh-nAUiKhJNB"
      },
      "source": [
        "## Pregunta 4: Notación científica (4 puntos)"
      ]
    },
    {
      "cell_type": "markdown",
      "metadata": {
        "id": "NIkI45Xdqqnt"
      },
      "source": [
        "Imprime las siguientes operaciones según la notación científica:\n",
        "\n",
        "(1) $1.321 \\times 10^{-4} + 8.5 \\times 10^{-2}$\n",
        "\n",
        "(2) $1.71 \\times 10^{3} - 2.01 \\times 10^{2}\\$\n",
        "\n",
        "(3) $(7.4 \\times 10^5)(7.2 \\times 10^4)$\n",
        "\n",
        "(4) $(7.4 \\times 10^5)/(7.2 \\times 10^4)$"
      ]
    },
    {
      "cell_type": "code",
      "execution_count": null,
      "metadata": {
        "colab": {
          "base_uri": "https://localhost:8080/"
        },
        "id": "XVwYsCCKv4oK",
        "outputId": "51583c0f-e780-49d4-9420-17264cdfc40e"
      },
      "outputs": [
        {
          "output_type": "stream",
          "name": "stdout",
          "text": [
            "1) 0.0851321\n",
            "2) -200.99828999999997\n",
            "3) 53280000000.0\n",
            "4) 10.277777777777779\n"
          ]
        }
      ],
      "source": [
        "#Imprime las siguientes operaciones según la notación científica\n",
        "print(\"1)\",(1.321*10**-4)+(8.5*10**-2))\n",
        "print(\"2)\",(1.71*10**-3)-(2.01*10**2))\n",
        "print(\"3)\",(7.4*10**5)*(7.2*10**4))\n",
        "print(\"4)\",(7.4*10**5)/(7.2*10**4))"
      ]
    },
    {
      "cell_type": "markdown",
      "metadata": {
        "id": "CuzCcXJghR14"
      },
      "source": [
        "## Pregunta 5: Método científico (4 puntos)"
      ]
    },
    {
      "cell_type": "markdown",
      "metadata": {
        "id": "WngRSR-Rhmx1"
      },
      "source": [
        "Artículo: https://bit.ly/3surZ1W\n",
        "Leer el siguiente artículo y explica cómo es aplicado el método científico. Emplea como máximo 300 palabras."
      ]
    },
    {
      "cell_type": "markdown",
      "source": [
        "#Bueno en el artículo citado nos habla sobre el enigma del LK-99 aplicando el método científico; diversas investigaciones por parte dieron varios puntos acerca del enigma.\n",
        "\n",
        "#Primero se aplicó la observación ya que la evidencia más sorprendente de la superconductividad de LK-99 fue un vídeo tomado por el equipo surcoreano que mostraba una muestra de material plateado con forma de moneda bamboleándose sobre un imán. Los investigadores dijeron que la muestra estaba levitando debido al efecto Meissner, una característica distintiva de la superconductividad en la que un material expulsa campos magnéticos. Posteriormente circularon en las redes sociales múltiples videos no verificados de LK-99 levitando, pero ninguno de los investigadores que inicialmente intentaron replicar los hallazgos observó levitación alguna.\n",
        "\n",
        "#Luego se dió el análisis respectivo por lo que el  equipo de la Universidad de Pekín ya que informó que esta \"media levitación\" apareció en sus propias muestras de LK-99 debido al ferromagnetismo. \"Es exactamente como un experimento de limado de hierro\", dice el miembro del equipo Yuan Li.\n",
        "#Esto debido a que el perdigón experimenta una fuerza de elevación, pero no es suficiente para levitar, sólo para equilibrarse en un extremo.\n",
        "#Pero no pudieron explicar la fuerte caída de la resistividad observada por el equipo surcoreano.\n",
        "# Dando por conclusión que La reacción que sintetiza LK-99 utiliza una receta desequilibrada. Por cada pieza que fabrica de fosfato de plomo dopado con cobre."
      ],
      "metadata": {
        "id": "WXh2aHmGH_dq"
      }
    }
  ],
  "metadata": {
    "colab": {
      "provenance": [],
      "authorship_tag": "ABX9TyPQjH4uKVk/L8i3aQKbwwec",
      "include_colab_link": true
    },
    "kernelspec": {
      "display_name": "Python 3",
      "name": "python3"
    },
    "language_info": {
      "name": "python"
    },
    "widgets": {
      "application/vnd.jupyter.widget-state+json": {
        "1d650e29d227461d8247b2651faa31ad": {
          "model_module": "@jupyter-widgets/base",
          "model_module_version": "1.2.0",
          "model_name": "LayoutModel",
          "state": {
            "_model_module": "@jupyter-widgets/base",
            "_model_module_version": "1.2.0",
            "_model_name": "LayoutModel",
            "_view_count": null,
            "_view_module": "@jupyter-widgets/base",
            "_view_module_version": "1.2.0",
            "_view_name": "LayoutView",
            "align_content": null,
            "align_items": null,
            "align_self": null,
            "border": null,
            "bottom": null,
            "display": null,
            "flex": null,
            "flex_flow": null,
            "grid_area": null,
            "grid_auto_columns": null,
            "grid_auto_flow": null,
            "grid_auto_rows": null,
            "grid_column": null,
            "grid_gap": null,
            "grid_row": null,
            "grid_template_areas": null,
            "grid_template_columns": null,
            "grid_template_rows": null,
            "height": null,
            "justify_content": null,
            "justify_items": null,
            "left": null,
            "margin": null,
            "max_height": null,
            "max_width": null,
            "min_height": null,
            "min_width": null,
            "object_fit": null,
            "object_position": null,
            "order": null,
            "overflow": null,
            "overflow_x": null,
            "overflow_y": null,
            "padding": null,
            "right": null,
            "top": null,
            "visibility": null,
            "width": null
          }
        },
        "9b57e126abdb4a42aa07635cd20f8cf1": {
          "model_module": "faerun-notebook",
          "model_module_version": "^0.1.5",
          "model_name": "SmilesDrawerModel",
          "state": {
            "_dom_classes": [],
            "_model_module": "faerun-notebook",
            "_model_module_version": "^0.1.5",
            "_model_name": "SmilesDrawerModel",
            "_view_count": null,
            "_view_module": "faerun-notebook",
            "_view_module_version": "^0.1.5",
            "_view_name": "SmilesDrawerView",
            "background": "#1e1e1e",
            "border": true,
            "layout": "IPY_MODEL_1d650e29d227461d8247b2651faa31ad",
            "options": {
              "scale": 1.25
            },
            "output": "svg",
            "theme": "dark",
            "value": [
              [
                "Rxn",
                "C(C1C(C(C(C(O1)O)O)O)O)O.O=O>>C(=O)=O.O"
              ]
            ]
          }
        }
      }
    }
  },
  "nbformat": 4,
  "nbformat_minor": 0
}